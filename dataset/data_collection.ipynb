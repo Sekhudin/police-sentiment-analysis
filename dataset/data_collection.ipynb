{
 "cells": [
  {
   "cell_type": "code",
   "execution_count": 6,
   "metadata": {},
   "outputs": [],
   "source": [
    "# import all package\n",
    "\n",
    "import pandas as pd\n",
    "import snscrape.modules.twitter as scrapper\n",
    "from datetime import datetime\n"
   ]
  },
  {
   "cell_type": "code",
   "execution_count": 31,
   "metadata": {},
   "outputs": [],
   "source": [
    "# functions scrapper\n",
    "\n",
    "def scrapByTag(tag, sum):\n",
    "  TOPIC = tag\n",
    "  ROW = int(sum)\n",
    "  TAG_SPLIT = tag.replace(\" \",\"\").split('#')\n",
    "  TWEETS = []\n",
    "\n",
    "  for i, tweet in enumerate(scrapper.TwitterSearchScraper(TOPIC).get_items()):\n",
    "    if i > ROW:\n",
    "      break\n",
    "    TWEETS.append(\n",
    "        [tweet.date, tweet.id, tweet.content, tweet.user.username])\n",
    "\n",
    "  dataframe = pd.DataFrame(\n",
    "      TWEETS, columns=['Datetime', 'Tweet Id', 'Text', 'Username'])\n",
    "  \n",
    "  if (len(TAG_SPLIT) == 1):\n",
    "    dataframe.to_csv(TAG_SPLIT[0]+'.csv', index=False)\n",
    "  elif (len(TAG_SPLIT) > 1):\n",
    "    dataframe.to_csv(TAG_SPLIT[1]+'.csv', index=False)\n",
    "  \n",
    "  with open(\"./log_collect_data.txt\",'w') as f:\n",
    "    date = datetime.now().strftime(\"%d-%b-%Y (%H:%M:%S.%f)\")\n",
    "    f.write(\"last collect data in {} \".format(date))\n",
    "  return dataframe\n"
   ]
  },
  {
   "cell_type": "code",
   "execution_count": 33,
   "metadata": {},
   "outputs": [],
   "source": [
    "TAG_LIST = [\"#percumalaporpolisi\", \"#polritegashumanis\"]\n",
    "\n",
    "for tag in TAG_LIST:\n",
    "    scrapByTag(tag, 2000)\n"
   ]
  }
 ],
 "metadata": {
  "kernelspec": {
   "display_name": "Python 3.9.7 ('envForTBI')",
   "language": "python",
   "name": "python3"
  },
  "language_info": {
   "codemirror_mode": {
    "name": "ipython",
    "version": 3
   },
   "file_extension": ".py",
   "mimetype": "text/x-python",
   "name": "python",
   "nbconvert_exporter": "python",
   "pygments_lexer": "ipython3",
   "version": "3.9.7 (default, Sep 16 2021, 16:59:28) [MSC v.1916 64 bit (AMD64)]"
  },
  "orig_nbformat": 4,
  "vscode": {
   "interpreter": {
    "hash": "771f9832dbd4c80630ccc0e44765a2a110180d768ed1b554a6322992d955785d"
   }
  }
 },
 "nbformat": 4,
 "nbformat_minor": 2
}
