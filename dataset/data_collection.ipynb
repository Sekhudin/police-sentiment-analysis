{
 "cells": [
  {
   "cell_type": "code",
   "execution_count": 1,
   "metadata": {},
   "outputs": [],
   "source": [
    "# import all package\n",
    "import os\n",
    "import pandas as pd\n",
    "import snscrape.modules.twitter as scrapper\n",
    "from datetime import datetime\n"
   ]
  },
  {
   "attachments": {},
   "cell_type": "markdown",
   "metadata": {},
   "source": [
    "##### Datat collection and labeling\n",
    "hapus file df_labeled untuk memulai labeling dari awal"
   ]
  },
  {
   "cell_type": "code",
   "execution_count": 2,
   "metadata": {},
   "outputs": [],
   "source": [
    "# functions scrapper\n",
    "\n",
    "def scrapByTag(tag, sum):\n",
    "  TOPIC = tag\n",
    "  ROW = int(sum)\n",
    "  name = tag.replace(\"#\", \"\").replace(' ', '')\n",
    "  NAME_FILE = \"\".join([name, '.csv'])\n",
    "  LABELED_NAME_FILE = \"\".join([name, \"_labeled\", \".csv\"])\n",
    "  TWEETS = []\n",
    "  ALLOWED_LABELS = {\n",
    "    \"-1\": \"Negative\",\n",
    "    \"0\": \"Neutral\",\n",
    "    \"1\": \"Positive\"\n",
    "  }\n",
    "\n",
    "  print(\"DAFTAR INPUT : {}\".format(\"-\" * 30))\n",
    "  print(\"MASUKAN -1 atau 0 atau 1 \")\n",
    "  print(\"-1 = NEGATIVE \\n0  = NEUTRAL \\n1  = POSITIVE \\nSKIP/Skip/skip = untuk melewati tweet\")\n",
    "  print(\"-\" * 30)\n",
    "  for i, tweet in enumerate(scrapper.TwitterSearchScraper(TOPIC).get_items()):\n",
    "    if i > ROW:\n",
    "      break\n",
    "    label = \"\"\n",
    "    while (label not in ALLOWED_LABELS.keys() and label != \"SKIP\" and label != \"Skip\" and label != \"skip\"):\n",
    "      label = input(\"{} ==>{}\".format(i, tweet.content))\n",
    "\n",
    "      # label --> hanya mengijinkan label yang terdapat pada dictionary ALLOWED_LABELS\n",
    "    if(label in ALLOWED_LABELS.keys()):\n",
    "      TWEETS.append([tweet.date, tweet.id, tweet.user.username,\n",
    "                    tweet.content, ALLOWED_LABELS[label]])\n",
    "\n",
    "  dataframe = pd.DataFrame(\n",
    "      TWEETS, columns=['Datetime', 'Tweet Id', 'Username', 'Text', 'Label'])\n",
    "\n",
    "# simpan dataframe --> menyimpan dataframe --> ketika script dijalankan dg tagline yang sama maka akan diupdate\n",
    "  dataframe.to_csv(NAME_FILE, index=False)\n",
    "\n",
    "# simpan df labeled --> df labeled merupakam clone dari dataframe. disimpan pada file berbeda untuk menghindari data tereset (jika tagline yang digunakan sama)\n",
    "  df_labeled = os.path.exists(LABELED_NAME_FILE)\n",
    "  print(\"NOTE : {}\".format(\"-\" * 30))\n",
    "  if(not df_labeled):\n",
    "    dataframe.to_csv(LABELED_NAME_FILE, index=False)\n",
    "    print(\"-> collection sukses --file {}\".format(NAME_FILE))\n",
    "    print(\"-> labelling sukses --file {}\".format(LABELED_NAME_FILE))\n",
    "  else:\n",
    "    print(\"-> collection diupdate --file {}\".format(NAME_FILE))\n",
    "    print(\"-> labeling exist --file {}\".format(LABELED_NAME_FILE))\n",
    "  print(\"-\" * 30)\n",
    "\n",
    "# log dan .gitignore --> menacatat waktu collection dan labeling, kemudian mendaftarkan pada .gitignore\n",
    "  for path in [\".gitignore\", \"collection_log.txt\"]:\n",
    "    if(path == \".gitignore\"):\n",
    "      with open(path, 'a') as git:\n",
    "        git.write('\\n{}'.format(NAME_FILE))\n",
    "        if(not df_labeled):\n",
    "          git.write('\\n{}'.format(LABELED_NAME_FILE))\n",
    "    elif(path == 'collection_log.txt'):\n",
    "      with open(path, 'a') as log:\n",
    "        date = datetime.now().strftime(\"%d-%b-%Y (%H:%M:%S.%f)\")\n",
    "        log.write(\"\\nlog --collecting {} --on: {} \".format(NAME_FILE ,date))\n",
    "        if(not df_labeled):\n",
    "          log.write(\"\\nlog --labeling {} --on: {}\".format(LABELED_NAME_FILE, date))\n",
    "        log.write(\"\\n--------------------------------------------------------\")\n",
    "\n",
    "  return dataframe\n"
   ]
  },
  {
   "cell_type": "code",
   "execution_count": 3,
   "metadata": {},
   "outputs": [
    {
     "name": "stdout",
     "output_type": "stream",
     "text": [
      "DAFTAR INPUT : ------------------------------\n",
      "MASUKAN -1 atau 0 atau 1 \n",
      "-1 = NEGATIVE \n",
      "0  = NEUTRAL \n",
      "1  = POSITIVE \n",
      "SKIP/Skip/skip = untuk melewati tweet\n",
      "------------------------------\n",
      "NOTE : ------------------------------\n",
      "-> collection sukses --file percumaLaporPolisi.csv\n",
      "-> labelling sukses --file percumaLaporPolisi_labeled.csv\n",
      "------------------------------\n"
     ]
    },
    {
     "data": {
      "text/html": [
       "<div>\n",
       "<style scoped>\n",
       "    .dataframe tbody tr th:only-of-type {\n",
       "        vertical-align: middle;\n",
       "    }\n",
       "\n",
       "    .dataframe tbody tr th {\n",
       "        vertical-align: top;\n",
       "    }\n",
       "\n",
       "    .dataframe thead th {\n",
       "        text-align: right;\n",
       "    }\n",
       "</style>\n",
       "<table border=\"1\" class=\"dataframe\">\n",
       "  <thead>\n",
       "    <tr style=\"text-align: right;\">\n",
       "      <th></th>\n",
       "      <th>Datetime</th>\n",
       "      <th>Tweet Id</th>\n",
       "      <th>Username</th>\n",
       "      <th>Text</th>\n",
       "      <th>Label</th>\n",
       "    </tr>\n",
       "  </thead>\n",
       "  <tbody>\n",
       "    <tr>\n",
       "      <th>0</th>\n",
       "      <td>2022-12-30 02:37:40+00:00</td>\n",
       "      <td>1608653518281506818</td>\n",
       "      <td>Lesmono8i</td>\n",
       "      <td>@anggitob29 @HumasPolri @ListyoSigitP @mohmahf...</td>\n",
       "      <td>Negative</td>\n",
       "    </tr>\n",
       "    <tr>\n",
       "      <th>1</th>\n",
       "      <td>2022-12-29 04:18:24+00:00</td>\n",
       "      <td>1608316477706469377</td>\n",
       "      <td>findnuralisah</td>\n",
       "      <td>Bssn Brin Kominfo , gunanya apaan itu? Buang b...</td>\n",
       "      <td>Neutral</td>\n",
       "    </tr>\n",
       "    <tr>\n",
       "      <th>2</th>\n",
       "      <td>2022-12-28 17:36:03+00:00</td>\n",
       "      <td>1608154827569389570</td>\n",
       "      <td>findnuralisah</td>\n",
       "      <td>Kerja belom, udah dimintain duit, kocak, tar k...</td>\n",
       "      <td>Positive</td>\n",
       "    </tr>\n",
       "  </tbody>\n",
       "</table>\n",
       "</div>"
      ],
      "text/plain": [
       "                   Datetime             Tweet Id       Username  \\\n",
       "0 2022-12-30 02:37:40+00:00  1608653518281506818      Lesmono8i   \n",
       "1 2022-12-29 04:18:24+00:00  1608316477706469377  findnuralisah   \n",
       "2 2022-12-28 17:36:03+00:00  1608154827569389570  findnuralisah   \n",
       "\n",
       "                                                Text     Label  \n",
       "0  @anggitob29 @HumasPolri @ListyoSigitP @mohmahf...  Negative  \n",
       "1  Bssn Brin Kominfo , gunanya apaan itu? Buang b...   Neutral  \n",
       "2  Kerja belom, udah dimintain duit, kocak, tar k...  Positive  "
      ]
     },
     "execution_count": 3,
     "metadata": {},
     "output_type": "execute_result"
    }
   ],
   "source": [
    "tag = \"#percumaLaporPolisi\"\n",
    "df = scrapByTag(tag, 3)\n",
    "df\n"
   ]
  }
 ],
 "metadata": {
  "kernelspec": {
   "display_name": "Python 3.9.7 ('envForTBI')",
   "language": "python",
   "name": "python3"
  },
  "language_info": {
   "codemirror_mode": {
    "name": "ipython",
    "version": 3
   },
   "file_extension": ".py",
   "mimetype": "text/x-python",
   "name": "python",
   "nbconvert_exporter": "python",
   "pygments_lexer": "ipython3",
   "version": "3.9.7"
  },
  "orig_nbformat": 4,
  "vscode": {
   "interpreter": {
    "hash": "771f9832dbd4c80630ccc0e44765a2a110180d768ed1b554a6322992d955785d"
   }
  }
 },
 "nbformat": 4,
 "nbformat_minor": 2
}
